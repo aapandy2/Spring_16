{
 "metadata": {
  "name": ""
 },
 "nbformat": 3,
 "nbformat_minor": 0,
 "worksheets": [
  {
   "cells": [
    {
     "cell_type": "code",
     "collapsed": false,
     "input": [
      "%matplotlib inline\n",
      "import numpy as np\n",
      "import pylab as pl\n",
      "import scipy.special as special\n",
      "from scipy.integrate import quad\n",
      "from scipy.integrate import fixed_quad\n",
      "\n",
      "# Set plot parameters to make beautiful plots\n",
      "pl.rcParams['figure.figsize']  = 12, 7.5\n",
      "pl.rcParams['lines.linewidth'] = 1.5\n",
      "pl.rcParams['font.family']     = 'serif'\n",
      "pl.rcParams['font.weight']     = 'bold'\n",
      "pl.rcParams['font.size']       = 15\n",
      "pl.rcParams['font.sans-serif'] = 'serif'\n",
      "pl.rcParams['text.usetex']     = True\n",
      "pl.rcParams['axes.linewidth']  = 1.5\n",
      "pl.rcParams['axes.titlesize']  = 'medium'\n",
      "pl.rcParams['axes.labelsize']  = 'medium'\n",
      "\n",
      "pl.rcParams['xtick.major.size'] = 8\n",
      "pl.rcParams['xtick.minor.size'] = 4\n",
      "pl.rcParams['xtick.major.pad']  = 8\n",
      "pl.rcParams['xtick.minor.pad']  = 8\n",
      "pl.rcParams['xtick.color']      = 'k'\n",
      "pl.rcParams['xtick.labelsize']  = 'medium'\n",
      "pl.rcParams['xtick.direction']  = 'in'\n",
      "\n",
      "pl.rcParams['ytick.major.size'] = 8\n",
      "pl.rcParams['ytick.minor.size'] = 4\n",
      "pl.rcParams['ytick.major.pad']  = 8\n",
      "pl.rcParams['ytick.minor.pad']  = 8\n",
      "pl.rcParams['ytick.color']      = 'k'\n",
      "pl.rcParams['ytick.labelsize']  = 'medium'\n",
      "pl.rcParams['ytick.direction']  = 'in'"
     ],
     "language": "python",
     "metadata": {},
     "outputs": [],
     "prompt_number": 1
    },
    {
     "cell_type": "code",
     "collapsed": false,
     "input": [
      "#Constants; copy-pasted from symphony\n",
      "m = 9.1093826e-28\n",
      "h = 6.6260693e-27\n",
      "c = 2.99792458e10\n",
      "e = 4.80320680e-10\n",
      "\n",
      "n_e     = 1.\n",
      "theta_e = 3.\n",
      "theta   = np.pi/4.\n",
      "B       = 30.\n",
      "\n",
      "nu_c    = (e * B) / (2. * np.pi * m * c)\n",
      "omega_c = 2. * np.pi * nu_c\n",
      "\n",
      "nu    = 1. * nu_c\n",
      "omega = 2. * np.pi * nu\n",
      "\n",
      "nu_c_dexter = (3./2.) * theta_e**2. * nu_c * np.sin(theta)\n",
      "print nu / nu_c_dexter"
     ],
     "language": "python",
     "metadata": {},
     "outputs": [
      {
       "output_type": "stream",
       "stream": "stdout",
       "text": [
        "0.104756560176\n"
       ]
      }
     ],
     "prompt_number": 3
    },
    {
     "cell_type": "code",
     "collapsed": false,
     "input": [
      "#This is the term Df, equation 29 of alpha_12_calculation_outline\n",
      "def Df(gamma):\n",
      "    term1 = omega / (m * c**2. * theta_e)\n",
      "    term2 = 1./ (4. * np.pi * m**3. * c**3. * theta_e * special.kn(2, 1./theta_e))\n",
      "    ans   = term1 * term2 * np.exp(- gamma / theta_e)\n",
      "    return ans\n",
      "\n",
      "#bessel function term integrand, without 1/sin(pi * a) term\n",
      "def integrand_nopoles(a, p_bar, nu):\n",
      "    \n",
      "    #minimum value of a to keep p_perp real; equation 27\n",
      "    a_min = (nu / nu_c) * (1. - np.cos(theta) * p_bar) / np.sqrt(1. - p_bar**2.)\n",
      "    \n",
      "    #check if a > a_min\n",
      "    if(a <= a_min):\n",
      "        return 0.    \n",
      "    \n",
      "    #gamma in terms of a, p_bar; equation 23\n",
      "    gamma = (nu_c / nu) * a / (1. - np.cos(theta) * p_bar)\n",
      "    \n",
      "    #p_parallel, equation 21\n",
      "    p_parallel = gamma * m * c * p_bar\n",
      "\n",
      "    #p_perp, equation 22\n",
      "    p_perp = m * c * np.sqrt(gamma**2. * (1. - p_bar**2.) - 1.)\n",
      "    \n",
      "    #this is gamma as a function of p_perp and p_parallel, equation 28\n",
      "    gamma_check = np.sqrt((p_perp/(m * c))**2. + (p_parallel/(m * c))**2. + 1.)\n",
      "    \n",
      "    #Omega, equation 8\n",
      "    Omega = omega_c / gamma\n",
      "    \n",
      "    #z, equation 5\n",
      "    z = omega * np.sin(theta) * p_perp / (gamma * m * c * Omega) \n",
      "    \n",
      "    #M, equation 6\n",
      "    M = (np.cos(theta) - (p_parallel / (gamma * m * c))) / np.sin(theta)\n",
      "\n",
      "    #N, equation 7\n",
      "    N = p_perp / (gamma * m * c)\n",
      "\n",
      "    #bessel function term in integrand (eq. 16); note that the 1/sin(pi * a) is taken out\n",
      "    # so that we can use the Weiss method\n",
      "    bessel_term = np.pi * special.jv(a, z) * special.jvp(-a, z)\n",
      "    \n",
      "    if(np.isnan(bessel_term) == True):\n",
      "        return 0.\n",
      "      \n",
      "    jacobian = - m**3. * c**3. * (nu_c / nu) * gamma**2. / (p_perp * (1. - np.cos(theta) * p_bar))\n",
      "    \n",
      "    #dp_perp * dp_parallel from equation \n",
      "    dp_perp_dp_para = jacobian #*dadp_bar, which is notation we don't use for a numerical integral\n",
      "    \n",
      "    #d^3p from equation 26\n",
      "    d3p = 2. * np.pi * p_perp * dp_perp_dp_para\n",
      "    \n",
      "    ans = M * N / Omega * Df(gamma) * bessel_term * d3p\n",
      "    \n",
      "    return ans\n",
      "\n",
      "# 1/z term integrand\n",
      "def integrand_other_term(a, p_bar, nu):\n",
      "    #minimum value of a to keep p_perp real; equation 27\n",
      "    a_min = (nu / nu_c) * (1. - np.cos(theta) * p_bar) / np.sqrt(1. - p_bar**2.)    \n",
      "      \n",
      "    #check if a > a_min\n",
      "    if(a <= a_min):\n",
      "        return 0.  \n",
      "    \n",
      "    #gamma in terms of a, p_bar; equation 23\n",
      "    gamma = (nu_c / nu) * a / (1. - np.cos(theta) * p_bar)\n",
      "    \n",
      "    #p_parallel, equation 21\n",
      "    p_parallel = gamma * m * c * p_bar\n",
      "\n",
      "    #p_perp, equation 22\n",
      "    p_perp = m * c * np.sqrt(gamma**2. * (1. - p_bar**2.) - 1.)\n",
      "    \n",
      "    #this is gamma as a function of p_perp and p_parallel, equation 28\n",
      "    gamma_check = np.sqrt((p_perp/(m * c))**2. + (p_parallel/(m * c))**2. + 1.)\n",
      "    \n",
      "    #Omega, equation 8\n",
      "    Omega = omega_c / gamma\n",
      "    \n",
      "    #z, equation 5\n",
      "    z = omega * np.sin(theta) * p_perp / (gamma * m * c * Omega) \n",
      "\n",
      "    #M, equation 6\n",
      "    M = (np.cos(theta) - (p_parallel / (gamma * m * c))) / np.sin(theta)\n",
      "\n",
      "    #N, equation 7\n",
      "    N = p_perp / (gamma * m * c)\n",
      " \n",
      "    jacobian = - m**3. * c**3. * (nu_c / nu) * gamma**2. / (p_perp * (1. - np.cos(theta) * p_bar))\n",
      "    \n",
      "    #dp_perp * dp_0.00740740740741parallel from equation \n",
      "    dp_perp_dp_para = jacobian #*dadp_bar, which is notation we don't use for a numerical integral\n",
      "    \n",
      "    #d^3p from equation 26\n",
      "    d3p = 2. * np.pi * p_perp * dp_perp_dp_para\n",
      "    \n",
      "    ans = M * N / Omega * Df(gamma) * (1./z) * d3p\n",
      "    \n",
      "    return ans\n",
      "\n",
      "# bessel function term integrand with 1/sin(pi * a) term\n",
      "def integrand_poles(a, p_bar, nu):\n",
      "    ans = integrand_nopoles(a, p_bar, nu) / np.sin(np.pi * a)\n",
      "    return ans\n",
      "\n",
      "# minimum value of a allowed to keep p_perp real; equation 27\n",
      "def a_min(p_bar, nu):\n",
      "    ans = (nu / nu_c) * (1. - np.cos(theta) * p_bar) / np.sqrt(1. - p_bar**2.)    \n",
      "    return ans"
     ],
     "language": "python",
     "metadata": {},
     "outputs": [],
     "prompt_number": 4
    },
    {
     "cell_type": "code",
     "collapsed": false,
     "input": [
      "def approx_sign(a):\n",
      "    n = np.round(a)\n",
      "    ans = (-1.)**(n % 2)\n",
      "    return ans\n",
      "\n",
      "def a_integrator(p_bar, nu):\n",
      "    \n",
      "    #for p_bar = -1, 1, a_min goes to infinity\n",
      "    if(np.isinf(a_min(p_bar, nu)) == True):\n",
      "        return 0.\n",
      "    \n",
      "    #width of range around poles for CPV integrator\n",
      "    width = 0.01\n",
      "    \n",
      "    #starting point for first QUAD integral; should start after pole\n",
      "    start = np.int(a_min(p_bar, nu) + 1.) + width\n",
      "    #ending point for first QUAD integral; should stop short of pole\n",
      "    end   = start + (1. - 2. * width)\n",
      "    \n",
      "    #index used to slide integrators along a\n",
      "    i     = 0.\n",
      "    \n",
      "    #declarenp.abs( answer, integral contribution, initial contribution to be 0\n",
      "    ans                  = 0.\n",
      "    contrib              = 0.\n",
      "    initial_contribution = 0.\n",
      "    \n",
      "    #integrator quits once the absolute value of the most recent \n",
      "    # contribution to the integral divided by the total answer \n",
      "    # is smaller than tolerance\n",
      "    tolerance = 1e-5\n",
      "    \n",
      "    #CASE 1: a_min < start - 2 * width; we have to integrate a region without\n",
      "    #        poles from a_min to start - 2 * width and then integrate the pole\n",
      "    #        -containing region from start - 2 * width to start + 2 * width.\n",
      "    if(a_min(p_bar, nu) < start - 2. * width):\n",
      "        initial_nopoles = quad(lambda a: integrand_poles(a, p_bar, nu), a_min(p_bar, nu), start - 2. * width)\n",
      "        initial_poles   = quad(lambda a: integrand_nopoles(a, p_bar, nu)/np.pi * approx_sign(a), \n",
      "                               start - 2. * width, start, weight='cauchy', wvar=np.round(start))\n",
      "        initial_contribution = initial_nopoles[0] + initial_poles[0]\n",
      "           \n",
      "        #CASE 1a: if both initial_poles and initial_nopoles are 0, ans = their sum\n",
      "        #         will be zero before the while loop below runs.  The condition in\n",
      "        #         the loop will then be 0/0 and will throw an error.  This sets ans\n",
      "        #         to a small nonzero value (negligible since the integral is on the\n",
      "        #         order of 1e20) so the loop condition does not throw the error.\n",
      "        if(initial_nopoles[0] == 0 and initial_poles[0] == 0):\n",
      "            ans = 1e-15\n",
      "\n",
      "    #CASE 2: a_min > start - 2 * width; we have to integrate a region with a pole\n",
      "    #        first from a_min to start.\n",
      "    if(a_min(p_bar, nu) > start - 2. * width):\n",
      "        initial_poles = quad(lambda a: integrand_nopoles(a, p_bar, nu)/np.pi * approx_sign(a), \n",
      "                             a_min(p_bar, nu), start, weight='cauchy', wvar=np.round(a_min(p_bar, nu)))\n",
      "        \n",
      "        #CASE 2a: if initial_poles is 0, ans = initial_poles = 0 and the while loop below\n",
      "        #         throws a divide-by-zero error.  Set ans to a negligible nonzero value\n",
      "        #         in this case just so that the error does not occur.\n",
      "        if(initial_poles[0] == 0):\n",
      "            ans = 1e-15 \n",
      "                \n",
      "        initial_contribution = initial_poles[0]\n",
      "            \n",
      "    while(i == 0 or np.abs(contrib/ans) > tolerance):  \n",
      "        between_poles = quad(lambda a: integrand_poles(a, p_bar, nu), start + i, end + i)\n",
      "        poles         = quad(lambda a: integrand_nopoles(a, p_bar, nu)/np.pi * approx_sign(a), \n",
      "                             end + i, end + 2. * width + i, weight='cauchy', wvar=np.round(end + width + i))\n",
      "        i = i + 1.\n",
      "                           \n",
      "        contrib = between_poles[0] + poles[0]\n",
      "        \n",
      "        ans = ans + contrib\n",
      "        \n",
      "    return ans + initial_contribution"
     ],
     "language": "python",
     "metadata": {},
     "outputs": [],
     "prompt_number": 5
    },
    {
     "cell_type": "code",
     "collapsed": false,
     "input": [
      "# a integral for 1/z term integrand\n",
      "def other_term_a_integrator(p_bar, nu):\n",
      "       \n",
      "    integral_ans = quad(lambda a: integrand_other_term(a, p_bar, nu), a_min(p_bar, nu), np.inf)\n",
      "    \n",
      "#    print integral_ans\n",
      "    \n",
      "    return integral_ans[0]"
     ],
     "language": "python",
     "metadata": {},
     "outputs": [],
     "prompt_number": 6
    },
    {
     "cell_type": "code",
     "collapsed": false,
     "input": [
      "#FINAL ANSWER (without constant prefactor)\n",
      "def final_ans(nu):\n",
      "    order = 35\n",
      "\n",
      "    prefactor = ((2. * np.pi * nu)**2. * c**2.) / (4. * np.pi) * e**2. * (2./nu) * m\n",
      "    #prefactor = 1.\n",
      "\n",
      "    answer_bessel = np.vectorize(fixed_quad)(lambda p_bar: np.vectorize(a_integrator)(p_bar, nu), \n",
      "                                             -1., 1., n=order)\n",
      "    answer_invz   = np.vectorize(fixed_quad)(lambda p_bar: np.vectorize(other_term_a_integrator)(p_bar, nu), \n",
      "                                             -1., 1., n=order)\n",
      "    final_answer  = answer_bessel[0] + answer_invz[0]\n",
      "\n",
      "    print 'Bessel func. term:          ', prefactor * answer_bessel[0]\n",
      "    print '1/z term:                   ', prefactor * answer_invz[0]\n",
      "    print 'alpha_12 final answer:      ', prefactor * final_answer\n",
      "    return final_answer\n",
      "\n",
      "final_ans(nu)"
     ],
     "language": "python",
     "metadata": {},
     "outputs": [
      {
       "output_type": "stream",
       "stream": "stdout",
       "text": [
        "Bessel func. term:           5.52636594836e-11\n",
        "1/z term:                    -5.737903033e-11\n",
        "alpha_12 final answer:       -2.11537084644e-12\n"
       ]
      },
      {
       "metadata": {},
       "output_type": "pyout",
       "prompt_number": 8,
       "text": [
        "-21225.146712261369"
       ]
      }
     ],
     "prompt_number": 8
    },
    {
     "cell_type": "code",
     "collapsed": false,
     "input": [
      "def shgmfunc(x):\n",
      "    ans = 0.43793091*np.log(1.+0.00185777*x**1.50316886)\n",
      "    return ans\n",
      "\n",
      "def jffunc(x):\n",
      "    extraterm=(.011*np.exp(-x/47.2)-2.**(-1./3.)/3.**(23./6.)*np.pi*1.e4*(x+1.e-16)**(-8./3.))*(0.5+0.5*np.tanh((np.log(x)-np.log(120.))/0.1))\n",
      "    ans=2.011*np.exp(-x**(1.035)/4.7)-np.cos(x/2.)*np.exp(-x**(1.2)/2.73)-.011*np.exp(-x/47.2)+extraterm\n",
      "    return ans\n",
      "\n",
      "def MJ_rho_Q_dexter(nu, theta_e, theta):\n",
      "    omega0 = e*B/(m*c)\n",
      "    wp2 = 4. * np.pi * n_e * e**2 / m\n",
      "    xarg = theta_e * np.sqrt(np.sqrt(2.) * np.sin(theta) * (1.e3*omega0/(2. * np.pi * nu)))\n",
      "    eps11m22 = jffunc(xarg)*wp2*omega0**2./(2.*np.pi*nu)**4*(special.kn(1, 1./theta_e)/special.kn(2, 1./theta_e)+6.*theta_e)*np.sin(theta)**2.\n",
      "    rhoq = 2. * np.pi * nu /(2. * c) * eps11m22\n",
      "    return rhoq\n",
      "\n",
      "def MJ_rho_V_dexter(nu, theta_e, theta):\n",
      "    omega0 = e*B/(m*c)\n",
      "    wp2 = 4. * np.pi * n_e * e**2 / m\n",
      "    xarg = theta_e * np.sqrt(np.sqrt(2.) * np.sin(theta) * (1.e3*omega0/(2. * np.pi * nu)))\n",
      "    eps12 = wp2 * omega0 / (2. * np.pi * nu)**3 * (special.kn(0, 1./theta_e)-shgmfunc(xarg))/special.kn(2, 1./theta_e)*np.cos(theta)\n",
      "    rhov = 2. * np.pi * nu / c * eps12\n",
      "    return rhov\n",
      "\n",
      "#emissivity fitting formulae\n",
      "def thermal_I(nu, obs_angle, B_mag, density):\n",
      "    nu_c = (e * B_mag)/(2 * np.pi * m * c)\n",
      "    nu_s = (2./9.) * nu_c * theta_e**2. * np.sin(obs_angle)\n",
      "    term1 = density * (np.sqrt(2.) * np.pi * e**2. * nu_s)/(3. * special.kn(2., 1./theta_e) * c)\n",
      "#    nu = nuratio * nu_c\n",
      "    X = nu/nu_s\n",
      "    term2 = (X**(1./2.) + 2.**(11./12.) * X**(1./6.))**2. * np.exp(-X**(1./3.))\n",
      "    return term1*term2\n",
      "\n",
      "def planck_func(nu, B_mag):\n",
      "    nu_c = (e * B_mag)/(2 * np.pi * m * c)\n",
      "#    nu = nuratio * nu_c\n",
      "    term1 = (2.*h*nu**3.)/c**2.\n",
      "    term2 = (np.exp(h*nu/(theta_e*m*c**2.))-1.);\n",
      "    ans = term1 / term2;\n",
      "    return ans;\n",
      "\n",
      "def thermal_I_abs(nu, obs_angle, B_mag, density):\n",
      "    ans = thermal_I(nu, obs_angle, B_mag, density)/planck_func(nu, B_mag)\n",
      "    return ans"
     ],
     "language": "python",
     "metadata": {},
     "outputs": [],
     "prompt_number": 41
    },
    {
     "cell_type": "code",
     "collapsed": false,
     "input": [
      "x = np.arange(0.01, 0.02, 0.0005)\n",
      "#pl.loglog(x, MJ_rho_V_dexter(x * nu_c, theta_e, theta), label='fit')\n",
      "pl.plot(x, (np.vectorize(final_ans)(x * nu_c_dexter)) / (x * nu_c)\n",
      "          / thermal_I_abs(x * nu_c_dexter, theta, B, n_e), label='ours')\n",
      "pl.legend()"
     ],
     "language": "python",
     "metadata": {},
     "outputs": [
      {
       "output_type": "stream",
       "stream": "stdout",
       "text": [
        "Bessel func. term:           625520.013137\n",
        "1/z term:                    -575728.052135\n",
        "alpha_12 final answer:       49791.9610024\n",
        "Bessel func. term:          "
       ]
      },
      {
       "output_type": "stream",
       "stream": "stdout",
       "text": [
        " 625520.013137\n",
        "1/z term:                    -575728.052135\n",
        "alpha_12 final answer:       49791.9610024\n",
        "Bessel func. term:          "
       ]
      },
      {
       "output_type": "stream",
       "stream": "stdout",
       "text": [
        " 631845.026218\n",
        "1/z term:                    -575728.052135\n",
        "alpha_12 final answer:       56116.9740834\n",
        "Bessel func. term:          "
       ]
      },
      {
       "output_type": "stream",
       "stream": "stdout",
       "text": [
        " 635997.526083\n",
        "1/z term:                    -575728.052135\n",
        "alpha_12 final answer:       60269.4739483\n",
        "Bessel func. term:          "
       ]
      },
      {
       "output_type": "stream",
       "stream": "stdout",
       "text": [
        " 637040.052809\n",
        "1/z term:                    -575728.052135\n",
        "alpha_12 final answer:       61312.000674\n",
        "Bessel func. term:          "
       ]
      },
      {
       "output_type": "stream",
       "stream": "stdout",
       "text": [
        " 635863.494311\n",
        "1/z term:                    -575728.052135\n",
        "alpha_12 final answer:       60135.4421765\n",
        "Bessel func. term:          "
       ]
      },
      {
       "output_type": "stream",
       "stream": "stdout",
       "text": [
        " 633363.728393\n",
        "1/z term:                    -575728.052135\n",
        "alpha_12 final answer:       57635.6762589\n",
        "Bessel func. term:          "
       ]
      },
      {
       "output_type": "stream",
       "stream": "stdout",
       "text": [
        " 630439.497191\n",
        "1/z term:                    -575728.052135\n",
        "alpha_12 final answer:       54711.4450565\n",
        "Bessel func. term:          "
       ]
      },
      {
       "output_type": "stream",
       "stream": "stdout",
       "text": [
        " 627695.210186\n",
        "1/z term:                    -575728.052135\n",
        "alpha_12 final answer:       51967.1580518\n",
        "Bessel func. term:          "
       ]
      },
      {
       "output_type": "stream",
       "stream": "stdout",
       "text": [
        " 625823.374162\n",
        "1/z term:                    -575728.052135\n",
        "alpha_12 final answer:       50095.3220276\n",
        "Bessel func. term:          "
       ]
      },
      {
       "output_type": "stream",
       "stream": "stdout",
       "text": [
        " 625420.630776\n",
        "1/z term:                    -575728.052135\n",
        "alpha_12 final answer:       49692.5786413\n",
        "Bessel func. term:          "
       ]
      },
      {
       "output_type": "stream",
       "stream": "stdout",
       "text": [
        " 626842.392733\n",
        "1/z term:                    -575728.052135\n",
        "alpha_12 final answer:       51114.3405988\n",
        "Bessel func. term:          "
       ]
      },
      {
       "output_type": "stream",
       "stream": "stdout",
       "text": [
        " 630167.21336\n",
        "1/z term:                    -575728.052135\n",
        "alpha_12 final answer:       54439.1612249\n",
        "Bessel func. term:          "
       ]
      },
      {
       "output_type": "stream",
       "stream": "stdout",
       "text": [
        " 635163.016369\n",
        "1/z term:                    -575728.052135\n",
        "alpha_12 final answer:       59434.9642342\n",
        "Bessel func. term:          "
       ]
      },
      {
       "output_type": "stream",
       "stream": "stdout",
       "text": [
        " 641228.28069\n",
        "1/z term:                    -575728.052135\n",
        "alpha_12 final answer:       65500.2285559\n",
        "Bessel func. term:          "
       ]
      },
      {
       "output_type": "stream",
       "stream": "stdout",
       "text": [
        " 647789.537857\n",
        "1/z term:                    -575728.052135\n",
        "alpha_12 final answer:       72061.4857227\n",
        "Bessel func. term:          "
       ]
      },
      {
       "output_type": "stream",
       "stream": "stdout",
       "text": [
        " 654038.200006\n",
        "1/z term:                    -575728.052135\n",
        "alpha_12 final answer:       78310.1478712\n",
        "Bessel func. term:          "
       ]
      },
      {
       "output_type": "stream",
       "stream": "stdout",
       "text": [
        " 659559.498834\n",
        "1/z term:                    -575728.052135\n",
        "alpha_12 final answer:       83831.4466998\n",
        "Bessel func. term:          "
       ]
      },
      {
       "output_type": "stream",
       "stream": "stdout",
       "text": [
        " 664136.779882\n",
        "1/z term:                    -575728.052135\n",
        "alpha_12 final answer:       88408.7277478\n",
        "Bessel func. term:          "
       ]
      },
      {
       "output_type": "stream",
       "stream": "stdout",
       "text": [
        " 667690.531312\n",
        "1/z term:                    -575728.052135\n",
        "alpha_12 final answer:       91962.4791773\n",
        "Bessel func. term:          "
       ]
      },
      {
       "output_type": "stream",
       "stream": "stdout",
       "text": [
        " 670334.630226\n",
        "1/z term:                    -575728.052135\n",
        "alpha_12 final answer:       94606.578091\n"
       ]
      },
      {
       "metadata": {},
       "output_type": "pyout",
       "prompt_number": 53,
       "text": [
        "<matplotlib.legend.Legend at 0x7fb2bb58da50>"
       ]
      },
      {
       "metadata": {},
       "output_type": "display_data",
       "png": "[encoded data removed]",
       "text": [
        "<matplotlib.figure.Figure at 0x7fb2bb0ede50>"
       ]
      }
     ],
     "prompt_number": 53
    },
    {
     "cell_type": "code",
     "collapsed": false,
     "input": [
      "#plots of the two terms integrated over a\n",
      "p_bar = np.arange(-1., 1., 0.1)\n",
      "pl.plot(p_bar, np.vectorize(other_term_a_integrator)(p_bar), label='$1/z\\\\mathrm{~term}$')\n",
      "pl.plot(p_bar, np.vectorize(a_integrator)(p_bar), label='$\\\\mathrm{bessel~term}$')\n",
      "pl.xlabel('$\\\\bar{p}$')\n",
      "pl.ylabel('$\\\\int f(a, \\\\bar{p}) da$')\n",
      "pl.legend(loc='lower right')"
     ],
     "language": "python",
     "metadata": {},
     "outputs": [
      {
       "output_type": "stream",
       "stream": "stderr",
       "text": [
        "-c:113: RuntimeWarning: divide by zero encountered in double_scalars\n",
        "-c:64: RuntimeWarning: divide by zero encountered in double_scalars\n",
        "/usr/lib/python2.7/dist-packages/scipy/integrate/quadpack.py:295: UserWarning: Extremely bad integrand behavior occurs at some points of the\n",
        "  integration interval.\n",
        "  warnings.warn(msg)\n"
       ]
      },
      {
       "metadata": {},
       "output_type": "pyout",
       "prompt_number": 10,
       "text": [
        "<matplotlib.legend.Legend at 0x7f4b8b8d5750>"
       ]
      },
      {
       "metadata": {},
       "output_type": "display_data",
       "png": "[encoded data removed]",
       "text": [
        "<matplotlib.figure.Figure at 0x7f4b8b91e310>"
       ]
      }
     ],
     "prompt_number": 10
    },
    {
     "cell_type": "code",
     "collapsed": false,
     "input": [
      "data  = np.loadtxt('/home/alex/Desktop/high_T_test.txt')\n",
      "x = np.arange(1e3, 1e7, 1e3)\n",
      "#pl.loglog(x, x**-2. / 3e13, label='p=2')\n",
      "#pl.loglog(data[:, 0], data[:, 2] / -1.48231031648e+23, label='ours')\n",
      "pl.loglog(data[:, 0], -data[:, 2] / (data[:, 0] * nu_c)**2. / 84, label='ours, mod')\n",
      "pl.loglog(data[:, 0], data[:, 4], label='expected')\n",
      "pl.legend()\n",
      "print data[0, 2] / data[0, 4]\n",
      "print -data[0, 2] / (data[0, 0] * nu_c)**2. / data[0, 4]"
     ],
     "language": "python",
     "metadata": {},
     "outputs": [
      {
       "output_type": "stream",
       "stream": "stdout",
       "text": [
        "-1.48231031648e+23\n",
        "84.0761993129\n"
       ]
      },
      {
       "metadata": {},
       "output_type": "display_data",
       "png": "[encoded data removed]",
       "text": [
        "<matplotlib.figure.Figure at 0x7f9c867675d0>"
       ]
      }
     ],
     "prompt_number": 40
    },
    {
     "cell_type": "code",
     "collapsed": false,
     "input": [
      "p_bar = -0.0\n",
      "a = np.arange(a_min(p_bar, nu), a_min(p_bar, nu)*80, 0.1)\n",
      "pl.plot(a, np.vectorize(integrand_other_term)(a, p_bar, nu))\n",
      "print quad(lambda a: integrand_other_term(a, p_bar, nu), a_min(p_bar, nu), np.inf)\n",
      "print quad(lambda a: integrand_other_term(a, p_bar, nu), a_min(p_bar, nu), a_min(p_bar, nu)*80)"
     ],
     "language": "python",
     "metadata": {},
     "outputs": [
      {
       "output_type": "stream",
       "stream": "stdout",
       "text": [
        "(-294229.0202144729, 6.945531813717931e-05)\n",
        "(-294229.01991727395, 0.0035520113574420975)\n"
       ]
      },
      {
       "metadata": {},
       "output_type": "display_data",
       "png": "[encoded data removed]",
       "text": [
        "<matplotlib.figure.Figure at 0x7fb2bb93b2d0>"
       ]
      }
     ],
     "prompt_number": 38
    },
    {
     "cell_type": "code",
     "collapsed": false,
     "input": [],
     "language": "python",
     "metadata": {},
     "outputs": []
    },
    {
     "cell_type": "code",
     "collapsed": false,
     "input": [],
     "language": "python",
     "metadata": {},
     "outputs": []
    }
   ],
   "metadata": {}
  }
 ]
}